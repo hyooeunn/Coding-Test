{
 "cells": [
  {
   "cell_type": "markdown",
   "id": "61b55da8",
   "metadata": {},
   "source": [
    "# 문제 2\n",
    "- 사용자로부터 비밀번호를 입력받아서, 사용자가 올바른 비밀번호를 입력할 때까지 계속 입력을 받는 프로그램을 만들어보세요"
   ]
  },
  {
   "cell_type": "code",
   "execution_count": null,
   "id": "002d236a",
   "metadata": {},
   "outputs": [
    {
     "name": "stdout",
     "output_type": "stream",
     "text": [
      "비밀번호가 틀렸습니다\n",
      "로그인에 성공했습니다!\n"
     ]
    }
   ],
   "source": [
    "# 내 풀이\n",
    "pw = '0817'\n",
    "user_input = int(input(\"비밀번호를 입력해주세요: \"))\n",
    "\n",
    "while user_input != pw:\n",
    "  print(\"비밀번호가 틀렸습니다\")\n",
    "  user_input = input(\"비밀번호를 다시 입력해주세요: \")\n",
    "print(\"로그인에 성공!\")"
   ]
  },
  {
   "cell_type": "code",
   "execution_count": 2,
   "id": "d46c2bc9",
   "metadata": {},
   "outputs": [
    {
     "name": "stdout",
     "output_type": "stream",
     "text": [
      "잘못된 비밀번호입니다.\n",
      "잘못된 비밀번호입니다.\n",
      "잘못된 비밀번호입니다.\n",
      "로그인 되었습니다\n"
     ]
    }
   ],
   "source": [
    "# 선생님 풀이\n",
    "pw = '0817'\n",
    "user_input = 0\n",
    "\n",
    "while user_input != pw:\n",
    "  user_input = input(\"비밀번호를 입력해주세요: \")\n",
    "  print(\"잘못된 비밀번호입니다.\")\n",
    "print(\"로그인 되었습니다\")"
   ]
  }
 ],
 "metadata": {
  "kernelspec": {
   "display_name": "Python 3",
   "language": "python",
   "name": "python3"
  },
  "language_info": {
   "codemirror_mode": {
    "name": "ipython",
    "version": 3
   },
   "file_extension": ".py",
   "mimetype": "text/x-python",
   "name": "python",
   "nbconvert_exporter": "python",
   "pygments_lexer": "ipython3",
   "version": "3.13.5"
  }
 },
 "nbformat": 4,
 "nbformat_minor": 5
}
