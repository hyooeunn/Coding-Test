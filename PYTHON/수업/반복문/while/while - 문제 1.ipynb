{
 "cells": [
  {
   "cell_type": "markdown",
   "id": "7098005d",
   "metadata": {},
   "source": [
    "# 문제 1\n",
    "- 양의 정수를 사용자로부터 입력받아서, 1부터 그 숫자까지의 합을 while문으로 계산하는 프로그램을 작성해봅시다\n",
    "\n",
    "- input : 5\n",
    "- output : 15"
   ]
  },
  {
   "cell_type": "code",
   "execution_count": null,
   "id": "db260177",
   "metadata": {},
   "outputs": [
    {
     "name": "stdout",
     "output_type": "stream",
     "text": [
      "10\n",
      "55\n"
     ]
    }
   ],
   "source": [
    "# 내 풀이\n",
    "n = int(input(\"숫자 하나를 입력해주세요: \"))\n",
    "total = 0\n",
    "i = 1\n",
    "\n",
    "while i <= n:\n",
    "  total += i\n",
    "  i += 1\n",
    "print(n)\n",
    "print(total)"
   ]
  },
  {
   "cell_type": "code",
   "execution_count": 4,
   "id": "67a56b6e",
   "metadata": {},
   "outputs": [
    {
     "name": "stdout",
     "output_type": "stream",
     "text": [
      "입력값: 10, 출력값: 55\n"
     ]
    }
   ],
   "source": [
    "# 선생님 풀이 (for문)\n",
    "\n",
    "num = int(input(\"숫자를 입력하세요: \"))\n",
    "temp = 0\n",
    "\n",
    "for i in range(1, num + 1):\n",
    "  temp += i\n",
    "print(f\"입력값: {num}, 출력값: {temp}\")"
   ]
  },
  {
   "cell_type": "code",
   "execution_count": 5,
   "id": "1f74eeed",
   "metadata": {},
   "outputs": [
    {
     "name": "stdout",
     "output_type": "stream",
     "text": [
      "입력값: 10, 출력값: 55\n"
     ]
    }
   ],
   "source": [
    "# 선생님 풀이 (while문)\n",
    "\n",
    "num = int(input(\"숫자를 입력하세요: \"))\n",
    "temp = 0\n",
    "i = 1\n",
    "\n",
    "while i <= num:\n",
    "  temp += i\n",
    "  i += 1\n",
    "print(f\"입력값: {num}, 출력값: {temp}\")"
   ]
  },
  {
   "cell_type": "code",
   "execution_count": null,
   "id": "7b46f1db",
   "metadata": {},
   "outputs": [],
   "source": []
  }
 ],
 "metadata": {
  "kernelspec": {
   "display_name": "Python 3",
   "language": "python",
   "name": "python3"
  },
  "language_info": {
   "codemirror_mode": {
    "name": "ipython",
    "version": 3
   },
   "file_extension": ".py",
   "mimetype": "text/x-python",
   "name": "python",
   "nbconvert_exporter": "python",
   "pygments_lexer": "ipython3",
   "version": "3.13.5"
  }
 },
 "nbformat": 4,
 "nbformat_minor": 5
}
